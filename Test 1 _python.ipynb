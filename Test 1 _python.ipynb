{
 "cells": [
  {
   "cell_type": "code",
   "execution_count": 2,
   "metadata": {
    "collapsed": false
   },
   "outputs": [
    {
     "name": "stdout",
     "output_type": "stream",
     "text": [
      "8.0\n",
      "4.0\n",
      "6.0\n",
      "1.7320508075688772\n"
     ]
    }
   ],
   "source": [
    "'''To build two functions, calculating the periment and area, we need to find a way to loop through the vector to get the length for each side\n",
    "and the value of element in the area function.\n",
    "By doing so, we need to find a way to append value of x,y pairs into a vector in order. \n",
    "Following the code below, we could get the two functions that helps us calculate the areas and perimeter'''\n",
    "import math #import math library\n",
    "x1 = [0,0] #initial vertices with values\n",
    "x2 = [2,0] #initial vertices with values\n",
    "x3 = [2,2] #initial vertices with values\n",
    "x4 = [0,2] #initial vertices with values\n",
    "coord = [] #initial a vector\n",
    "coord.append (x1) #add element to vctor \"coord\"\n",
    "coord.append (x2) #add element to vctor \"coord\"\n",
    "coord.append (x3) #add element to vctor \"coord\"\n",
    "coord.append (x4) #add element to vctor \"coord\"\n",
    "\n",
    "y1 = [0,0]#initial vertices with values\n",
    "y2 = [2,0]#initial vertices with values\n",
    "y3 = [1,math.sqrt(3)]#initial vertices with values\n",
    "coord1 =[]#initial a vector\n",
    "coord1.append (y1)#add element to vctor \"coord\"\n",
    "coord1.append (y2)#add element to vctor \"coord\"\n",
    "coord1.append (y3)#add element to vctor \"coord\"\n",
    "\n",
    "def polygperim(coords):#define the function to calculate the perimeter\n",
    "    a = 0 #initial a variable of perimeter with value \"0\"\n",
    "    i = 0 #initial a index variable with value \"0\"\n",
    "    length = len(coords) #calculate the length of vector\n",
    "    for i in range(0,length-1, 1):#for loop, loop through the vector to get the length for each side and add them together\n",
    "        a = a + (abs(coords[i][0]-coords[i+1][0])**2 + abs(coords[i][1]-coords[i+1][1])**2)**(0.5)#add the length for each side to the variable \"a\"\n",
    "    a = a + (abs(coords[i+1][0]-coords[0][0])**2 + abs(coords[i+1][1]-coords[0][1])**2)**(0.5)#add the length of side between the last vertex and the first one\n",
    "    return a#return the value of perimeter\n",
    "def polygarea (coords):#define the function to calculate the area\n",
    "    a = 0 #initial a variable of area with value \"0\"\n",
    "    i = 0 #initial a index variable with value \"0\"\n",
    "    length = len(coords) #calculate the length of vector\n",
    "    for i in range (0,length-1,1):#for loop, loop through the vector to get the value for element in the function and add them together\n",
    "        a = a + coords[i][0]*coords[i+1][1] - coords[i+1][0]*coords[i][1]#add the value for element in the function to the variable \"a\"\n",
    "    a = a + coords[i+1][0]*coords[0][1] - coords[0][0]*coords[i+1][1]#add the value for the element in the function between the last vertex and the first one\n",
    "    b = 0.5*abs(a) #initial the value of area \"b\" with one half of the absolute value of a\n",
    "    return b #return the value of area\n",
    "    \n",
    "print(polygperim(coord))#test the perimeter function with square vetices\n",
    "print(polygarea(coord))#test the area function with square vetices\n",
    "print(polygperim(coord1))#test the perimeter function with equilateral vetices\n",
    "print(polygarea(coord1))#test the area function with equilateral vetices\n",
    "\n",
    "\n",
    "    \n",
    "\n"
   ]
  },
  {
   "cell_type": "code",
   "execution_count": null,
   "metadata": {
    "collapsed": true
   },
   "outputs": [],
   "source": []
  }
 ],
 "metadata": {
  "kernelspec": {
   "display_name": "Python 3",
   "language": "python",
   "name": "python3"
  },
  "language_info": {
   "codemirror_mode": {
    "name": "ipython",
    "version": 3
   },
   "file_extension": ".py",
   "mimetype": "text/x-python",
   "name": "python",
   "nbconvert_exporter": "python",
   "pygments_lexer": "ipython3",
   "version": "3.4.3"
  }
 },
 "nbformat": 4,
 "nbformat_minor": 0
}
