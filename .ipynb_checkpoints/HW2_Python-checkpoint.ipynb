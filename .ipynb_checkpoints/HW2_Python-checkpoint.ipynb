{
 "cells": [
  {
   "cell_type": "markdown",
   "metadata": {
    "collapsed": true
   },
   "source": [
    "# Question 1"
   ]
  },
  {
   "cell_type": "markdown",
   "metadata": {},
   "source": [
    "SW: overall nice job. make sure you always test the final versions of your functions to avoid bugs. and, when you are writing code to specification, you need to ensure that your code does what it is supposed to do and that your functions are named what they are supposed to be named. this will help you in a collaborative environment, especially if the other collaborator is 'future you'."
   ]
  },
  {
   "cell_type": "code",
   "execution_count": 3,
   "metadata": {
    "collapsed": false
   },
   "outputs": [
    {
     "name": "stdout",
     "output_type": "stream",
     "text": [
      "0\n",
      "1\n",
      "1\n",
      "2\n",
      "3\n",
      "5\n"
     ]
    }
   ],
   "source": [
    "def fib(n): # define a function\n",
    "    \"\"\"Define a function ‘fib’.\n",
    "    Giving the specefic case first and then use while loop to process other situation\"\"\"\n",
    "    if n==1:# if statement\n",
    "        print(0) # print 0\n",
    "    elif n>2:# else if n is bigger than 2\n",
    "        a=0 #initial a = 0\n",
    "        b=1 # initial b = 1\n",
    "    while a<n or b<n:# while loop\n",
    "        if a<n: # if a is smaller than n\n",
    "            print(a) # print a \n",
    "            a=a+b # give a new value to a, a+b\n",
    "        if b<n:# if b is smaller than n\n",
    "            print(b) #print b\n",
    "            b=a+b # give a new value to b, which is a+b\n",
    "fib(8)"
   ]
  },
  {
   "cell_type": "markdown",
   "metadata": {
    "collapsed": true
   },
   "source": [
    "# Question 2"
   ]
  },
  {
   "cell_type": "code",
   "execution_count": 3,
   "metadata": {
    "collapsed": false
   },
   "outputs": [
    {
     "data": {
      "text/plain": [
       "4"
      ]
     },
     "execution_count": 3,
     "metadata": {},
     "output_type": "execute_result"
    }
   ],
   "source": [
    "def Mymax(a,b):# define a function with to variables a and b\n",
    "    \"\"\"takes two numbers as arguments and returns the largest of them\"\"\"\n",
    "    if a >= b:# if a is greater or equal to b\n",
    "        return a # return a\n",
    "    else: # else a is smaller than b\n",
    "        return b # return b\n",
    "Mymax(3,4)\n",
    "\n",
    "# SW: be careful with your function names. you were to write a function named mymax(), not\n",
    "# Mymax(). it is very important to be able to write code to specification, particularly in\n",
    "# a collaborative environment."
   ]
  },
  {
   "cell_type": "markdown",
   "metadata": {
    "collapsed": true
   },
   "source": [
    "# Question 3"
   ]
  },
  {
   "cell_type": "code",
   "execution_count": 4,
   "metadata": {
    "collapsed": false
   },
   "outputs": [
    {
     "data": {
      "text/plain": [
       "0"
      ]
     },
     "execution_count": 4,
     "metadata": {},
     "output_type": "execute_result"
    }
   ],
   "source": [
    "def max_of_three(a,b,c): # define a function with three variables a, b, c\n",
    "    \"\"\"takes three numbers as arguments and returns the largest of them\n",
    "    Compare them pair by pair until get included all possibilities.\"\"\"\n",
    "    if a >= b: # if a is bigger or equal to b\n",
    "        if a >= c:# if a is bigger or equal to c\n",
    "            return a # return a\n",
    "        elif a < c: # else if a is smaller than c\n",
    "            return c # return c \n",
    "    elif a < b: # else if a is smaller than b\n",
    "        if b >= c: # if b is greater or equal to c \n",
    "            return b # return b \n",
    "        elif b<c: # else if b is smaller c\n",
    "            return c # return c\n",
    "max_of_three(3,2,1)\n",
    "\n",
    "# SW: you only need three comparisons: a to b, a to c, and b to c, and you can handle the\n",
    "# rest with conditional logic."
   ]
  },
  {
   "cell_type": "markdown",
   "metadata": {
    "collapsed": true
   },
   "source": [
    "# Question 4"
   ]
  },
  {
   "cell_type": "code",
   "execution_count": 6,
   "metadata": {
    "collapsed": false
   },
   "outputs": [
    {
     "data": {
      "text/plain": [
       "0"
      ]
     },
     "execution_count": 6,
     "metadata": {},
     "output_type": "execute_result"
    }
   ],
   "source": [
    "def mylen(list): # define a function with a string variable \n",
    "    \"\"\"computes the length of a given list or string.Follow the charaters one by one, and add these numbers together to get the final length of the strig\n",
    "\"\"\"\n",
    "    count=0 #initial the value of count to be 0\n",
    "    for i in list: # for loop \n",
    "        count=count+1 # the value of count is increased by 1 \n",
    "    return count # return count\n",
    "mylen(\"wfgfds\")\n",
    "\n",
    "# SW: concise implementation"
   ]
  },
  {
   "cell_type": "markdown",
   "metadata": {
    "collapsed": true
   },
   "source": [
    "# Questoin 5"
   ]
  },
  {
   "cell_type": "code",
   "execution_count": 13,
   "metadata": {
    "collapsed": false
   },
   "outputs": [
    {
     "name": "stdout",
     "output_type": "stream",
     "text": [
      "True\n"
     ]
    }
   ],
   "source": [
    "def vowel(list1): # define a function with a string variable list1\n",
    "    \"\"\"returns True if it is a vowel, False otherwise. For loop check the characters in the string one by one.\"\"\"\n",
    "    for i in list1: # for loop\n",
    "        if i==\"a\" or \"e\" or \"i\" or \"o\" or \"u\": # if i is a, e, i, o, or u\n",
    "            return True # return true\n",
    "    else:# else a is not any one of them \n",
    "        return False# return false\n",
    "#vowel(\"afd\")\n",
    "\n",
    "# SW: lost points: your function doesn't work. the below should return False. and, what about\n",
    "# upper case vowels? the problem is your comparison.\n",
    "print(vowel('h'))"
   ]
  },
  {
   "cell_type": "markdown",
   "metadata": {
    "collapsed": true
   },
   "source": [
    "# Question 6"
   ]
  },
  {
   "cell_type": "code",
   "execution_count": 15,
   "metadata": {
    "collapsed": false
   },
   "outputs": [
    {
     "data": {
      "text/plain": [
       "''"
      ]
     },
     "execution_count": 15,
     "metadata": {},
     "output_type": "execute_result"
    }
   ],
   "source": [
    "def vowel(list):# define a funciton with a string variable list\n",
    "    \"\"\"double every consonant and place an occurrence of \"o\" in between.Let any consonant return false,\n",
    "    keep vowel(true)character and translate flase letter.\"\"\"\n",
    "    if list==\"a\" or list ==\"e\" or list == \"i\" or list == \"o\" or list == \"u\":# if i is a, e, i, o, or u\n",
    "        return \"True\"# return true\n",
    "    else:# else a is not any one of them \n",
    "        return \"False\"# return false\n",
    "\n",
    "def translate(n):# define a function with a string variable n \n",
    "    translate = \"\"# initial a new string variable\n",
    "    for i in n: # for loop\n",
    "        if vowel(i) == \"True\" or str(i) == \" \":# if function vowel(i) returns true, or i is \" \"\n",
    "            translate = translate + str(i)# the value of translate is translate + i\n",
    "        elif vowel(i) == \"False\":#  if function vowel(i) returns false\n",
    "            translate = translate + str(i) + \"o\" + str(i)# the value of translate is translate + i + \"o\" + i\n",
    "    return translate# return translate\n",
    "translate(\"boat\")\n",
    "\n",
    "# SW: good"
   ]
  },
  {
   "cell_type": "markdown",
   "metadata": {
    "collapsed": true
   },
   "source": [
    "# Question 7"
   ]
  },
  {
   "cell_type": "code",
   "execution_count": 18,
   "metadata": {
    "collapsed": false
   },
   "outputs": [
    {
     "ename": "NameError",
     "evalue": "name 'summ' is not defined",
     "output_type": "error",
     "traceback": [
      "\u001b[0;31m---------------------------------------------------------------------------\u001b[0m",
      "\u001b[0;31mNameError\u001b[0m                                 Traceback (most recent call last)",
      "\u001b[0;32m<ipython-input-18-3cab028fdca6>\u001b[0m in \u001b[0;36m<module>\u001b[0;34m()\u001b[0m\n\u001b[1;32m     12\u001b[0m     \u001b[0;32mreturn\u001b[0m \u001b[0mmul\u001b[0m\u001b[0;31m# return mul\u001b[0m\u001b[0;34m\u001b[0m\u001b[0m\n\u001b[1;32m     13\u001b[0m \u001b[0;34m\u001b[0m\u001b[0m\n\u001b[0;32m---> 14\u001b[0;31m \u001b[0mprint\u001b[0m \u001b[0;34m(\u001b[0m\u001b[0msumm\u001b[0m\u001b[0;34m(\u001b[0m\u001b[0;34m[\u001b[0m\u001b[0;36m1\u001b[0m\u001b[0;34m,\u001b[0m\u001b[0;36m2\u001b[0m\u001b[0;34m,\u001b[0m\u001b[0;36m3\u001b[0m\u001b[0;34m]\u001b[0m\u001b[0;34m)\u001b[0m\u001b[0;34m)\u001b[0m\u001b[0;34m\u001b[0m\u001b[0m\n\u001b[0m\u001b[1;32m     15\u001b[0m \u001b[0mprint\u001b[0m \u001b[0;34m(\u001b[0m\u001b[0mmul\u001b[0m\u001b[0;34m(\u001b[0m\u001b[0;34m[\u001b[0m\u001b[0;36m1\u001b[0m\u001b[0;34m,\u001b[0m\u001b[0;36m2\u001b[0m\u001b[0;34m,\u001b[0m\u001b[0;36m4\u001b[0m\u001b[0;34m]\u001b[0m\u001b[0;34m)\u001b[0m\u001b[0;34m)\u001b[0m\u001b[0;34m\u001b[0m\u001b[0m\n\u001b[1;32m     16\u001b[0m \u001b[0;34m\u001b[0m\u001b[0m\n",
      "\u001b[0;31mNameError\u001b[0m: name 'summ' is not defined"
     ]
    }
   ],
   "source": [
    "def sum(list):# define a function with a list variable, list\n",
    "    \"\"\"Define a function sum() and a function multiply() that sums and multiplies(respectively).\n",
    "    For loop makes all element in the list is calculated\"\"\"\n",
    "    summ=0# initial a integer variable with value 0\n",
    "    for i in list:# for loop\n",
    "        summ=summ+i# summ = summ + i\n",
    "    return summm# return sum\n",
    "def mul(list):# define a function with a list variable, list\n",
    "    mul=1 # initial mul with the value 1\n",
    "    for i in list:# for loop\n",
    "        mul=mul*i# mul = mul times the ith element in list\n",
    "    return mul# return mul\n",
    "\n",
    "print (summ([1,2,3]))\n",
    "print (mul([1,2,4]))\n",
    "\n",
    "# SW: lost points: there is a bug in your final line of sum, you have one 'm' too many. and,\n",
    "# you need to include doc header comments on every function, including multiply."
   ]
  },
  {
   "cell_type": "markdown",
   "metadata": {
    "collapsed": false
   },
   "source": [
    "# Question 8"
   ]
  },
  {
   "cell_type": "code",
   "execution_count": 20,
   "metadata": {
    "collapsed": false
   },
   "outputs": [
    {
     "data": {
      "text/plain": [
       "'a'"
      ]
     },
     "execution_count": 20,
     "metadata": {},
     "output_type": "execute_result"
    }
   ],
   "source": [
    "def reverse(string):# define a function with a string variable \n",
    "    \"\"\"Define a function reverse() that computes the reversal of a string\n",
    "    count the length of the string and reverse the string by the position of i.\"\"\"\n",
    "    strlen=int(len(string))# initial a integer variable with the length of stirng\n",
    "    reverse=\"\"# define a new string variable\n",
    "    for i in range (0,strlen,1):# for i from 0 to strlen\n",
    "        reverse=reverse+string[-i-1]# reverse = revers + the -i-1 th element\n",
    "    return reverse# return reversed\n",
    "\n",
    "reverse(\"asdgre\")\n",
    "\n",
    "# SW: good"
   ]
  },
  {
   "cell_type": "markdown",
   "metadata": {
    "collapsed": true
   },
   "source": [
    "# Question 9"
   ]
  },
  {
   "cell_type": "code",
   "execution_count": 23,
   "metadata": {
    "collapsed": false
   },
   "outputs": [
    {
     "name": "stdout",
     "output_type": "stream",
     "text": [
      "True\n"
     ]
    }
   ],
   "source": [
    "def palindrome(string):# define a function with a string variable \n",
    "    \"\"\"Define a function is_palindrome() that recognizes palindromes.\n",
    "    If we try to find if the string is palindrome, we need to check if the fisrt character and the last character are the same. \n",
    "\n",
    "    \"\"\"\n",
    "    strlen=int(len(string))# initial a integer variable with the length of string\n",
    "    check = 0# initial a integer variable with 0\n",
    "    for i in range (0,strlen,1):# for i from 0 to strlen\n",
    "        if string[i]==string[strlen-i-1] and check == 0:# if the ith element in string equals to the strlen-i-1 th element in string\n",
    "            check =0 # make the value of check is 0\n",
    "        else:# else \n",
    "            check = 1# let the value of check be 1\n",
    "            return False# return false\n",
    "    if check == 0:# if check equals to 0\n",
    "        return True# return true\n",
    "palindrome(\"toaot\")\n",
    "\n",
    "# SW: lost points: your function should have been named is_palindrome(), not palindrome()."
   ]
  },
  {
   "cell_type": "markdown",
   "metadata": {
    "collapsed": true
   },
   "source": [
    "# Question 10"
   ]
  },
  {
   "cell_type": "code",
   "execution_count": 28,
   "metadata": {
    "collapsed": false
   },
   "outputs": [
    {
     "data": {
      "text/plain": [
       "True"
      ]
     },
     "execution_count": 28,
     "metadata": {},
     "output_type": "execute_result"
    }
   ],
   "source": [
    "def is_member(x,a):# define a function with a integer variable and a list variable \n",
    "    \"\"\"x and a list of values a, and returns True if x is a member of a, False otherwise.\n",
    "    Compare whether x and element of  list a one by one.\"\"\"\n",
    "    strlen=int(len(a))#initial a integer variable with the length of the list a\n",
    "    for i in range (0,strlen,1):# for i from 0 to strlen\n",
    "        if x == a[i]:# if x equals to the ith element in the list\n",
    "            return True# return true\n",
    "    return False  #return false\n",
    "is_member(3,[1,3,4])\n",
    "\n",
    "# SW: good"
   ]
  },
  {
   "cell_type": "markdown",
   "metadata": {
    "collapsed": true
   },
   "source": [
    "# Question 11"
   ]
  },
  {
   "cell_type": "code",
   "execution_count": 31,
   "metadata": {
    "collapsed": false
   },
   "outputs": [
    {
     "data": {
      "text/plain": [
       "True"
      ]
     },
     "execution_count": 31,
     "metadata": {},
     "output_type": "execute_result"
    }
   ],
   "source": [
    "def overlapping(x,y):# define a function with two list variables\n",
    "    \"\"\"two lists and returns True if they have at least one member in common, False otherwise.\n",
    "    We need to go through each element in first list, then go through each element in the second string, to see if there are two elements the same as each other.\n",
    "\"\"\"\n",
    "    strlen1 = int(len(x))# initial a integer variable with the length of x\n",
    "    strlen2 = int(len(y))# initial a integer variable with the length of y\n",
    "    for i in range (0, strlen1, 1):# for i from 0 to stelen1\n",
    "        for j in range (0,strlen2, 1):# for j from 0 to strlen2\n",
    "            if x[i] == y[j]:# if the ith element in x equals to the jth element in y\n",
    "                return True# return true\n",
    "    return False# return false\n",
    "overlapping([1,2,3],[3,4,5])"
   ]
  },
  {
   "cell_type": "markdown",
   "metadata": {
    "collapsed": true
   },
   "source": [
    "# Question 12"
   ]
  },
  {
   "cell_type": "code",
   "execution_count": 32,
   "metadata": {
    "collapsed": false
   },
   "outputs": [
    {
     "data": {
      "text/plain": [
       "''"
      ]
     },
     "execution_count": 32,
     "metadata": {},
     "output_type": "execute_result"
    }
   ],
   "source": [
    "def char(n,c):# define a function with a integer variable and a string variable\n",
    "    \"\"\". Define a function generate_n_chars() that takes an integer n and a character c \n",
    "and returns a string, n characters long, consisting only of c:s. For example, \n",
    "generate_n_chars(5,\"x\") should return the string \"xxxxx\"\n",
    "repeat the character from 0,1..to n\"\"\"\n",
    "    out=\"\"# initial a string variable\n",
    "    for i in range(0, n, 1):# for i from 0 to n\n",
    "        out=out+c# out = out + c\n",
    "    return out# return out\n",
    "char(5,\"s\")\n",
    "\n",
    "# SW: lost points: you were to write a function named generate_n_chars()"
   ]
  },
  {
   "cell_type": "code",
   "execution_count": null,
   "metadata": {
    "collapsed": true
   },
   "outputs": [],
   "source": []
  }
 ],
 "metadata": {
  "kernelspec": {
   "display_name": "Python 3",
   "language": "python",
   "name": "python3"
  },
  "language_info": {
   "codemirror_mode": {
    "name": "ipython",
    "version": 3
   },
   "file_extension": ".py",
   "mimetype": "text/x-python",
   "name": "python",
   "nbconvert_exporter": "python",
   "pygments_lexer": "ipython3",
   "version": "3.4.3"
  }
 },
 "nbformat": 4,
 "nbformat_minor": 0
}
