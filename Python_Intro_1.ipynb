{
 "cells": [
  {
   "cell_type": "markdown",
   "metadata": {},
   "source": [
    "# Introduction to iPython"
   ]
  },
  {
   "cell_type": "markdown",
   "metadata": {},
   "source": [
    "## Do some simple math. Add and multiply some numbers."
   ]
  },
  {
   "cell_type": "code",
   "execution_count": 9,
   "metadata": {
    "collapsed": false
   },
   "outputs": [
    {
     "name": "stdout",
     "output_type": "stream",
     "text": [
      "65683\n",
      "256\n",
      "15\n"
     ]
    }
   ],
   "source": [
    "print(2+56+84+65498+21+22) #Print the sum of these numbers \n",
    "print(2**8) # Print the value of 2^8 \n",
    "print((1+4)*(9-6)) # Print the value of (1+4) times (9-6)"
   ]
  },
  {
   "cell_type": "markdown",
   "metadata": {},
   "source": [
    "## Characters"
   ]
  },
  {
   "cell_type": "code",
   "execution_count": 10,
   "metadata": {
    "collapsed": false
   },
   "outputs": [
    {
     "name": "stdout",
     "output_type": "stream",
     "text": [
      "s a\n",
      "pa pam spa\n"
     ]
    }
   ],
   "source": [
    "s = 'spam'  #Initial a string variable with content: ‘spam’\n",
    "print(s[0], s[-2]) # Print first character of variable ‘s’ and the second countdown character of variable ‘s’\n",
    "\n",
    "print(s[1:3], s[1:], s[:-1]) #Print characters from position 1 to 3 (not include 3) in string ‘s’ & characters from position 1 to the end & characters from the beginning to the first countdown character (not include character at position (-1) )\n"
   ]
  },
  {
   "cell_type": "markdown",
   "metadata": {},
   "source": [
    "## Check current working directory"
   ]
  },
  {
   "cell_type": "code",
   "execution_count": 12,
   "metadata": {
    "collapsed": false
   },
   "outputs": [
    {
     "name": "stdout",
     "output_type": "stream",
     "text": [
      "C:\\Users\\Xiaojing\\Documents\\GitHub\\fall510\n",
      "win32\n"
     ]
    }
   ],
   "source": [
    "import sys #Load the sys library\n",
    "import os #Load the os library\n",
    "import re #Load regular expression pattern matching library\n",
    "print(os.getcwd()) # Print the current working directory of os\n",
    "print(sys.platform) # Print identifier"
   ]
  },
  {
   "cell_type": "markdown",
   "metadata": {},
   "source": [
    "## Help"
   ]
  },
  {
   "cell_type": "code",
   "execution_count": 11,
   "metadata": {
    "collapsed": false
   },
   "outputs": [],
   "source": [
    "help(os) # How to use 'os'"
   ]
  },
  {
   "cell_type": "code",
   "execution_count": 16,
   "metadata": {
    "collapsed": false
   },
   "outputs": [],
   "source": [
    "import urllib.request # load urllib.request library\n",
    "r = urllib.request.urlopen('https://github.com/gerhardpilcher/2015Fall510/raw/master/2015%20FALL%20510%20Course%20Schedule.pdf') # Intial variable 'r' be the open url\n",
    "myfile = open('C:/Users/Xiaojing/Documents/GitHub/fall510/Schedule.pdf', 'wb') # intial variable to open the file\n",
    "# SW: Specify the 'w' option so the file is writable\n",
    "# SW: Specify the 'b' option because the file type is PDF (not purely text)\n",
    "\n",
    "myfile.write(r.read()) # write content of 'r' into 'myfile'\n",
    "myfile.close() #close the file"
   ]
  },
  {
   "cell_type": "code",
   "execution_count": 15,
   "metadata": {
    "collapsed": false
   },
   "outputs": [],
   "source": [
    "r = urllib.request.urlopen('https://github.com/gerhardpilcher/2015Fall510/raw/master/2015%20FALL%20510%20Syllabus.pdf') \n",
    "# SW: Open the course syllable on GitHub and assign the results to the variable r\n",
    "myfile = open('C:/Users/Xiaojing/Documents/GitHub/fall510/Syllabus.pdf', 'wb') \n",
    "# SW: Create a file on the host oeprating system\n",
    "# SW: Specify the 'w' option so the file is writable\n",
    "# SW: Specify the 'b' option because the file type is PDF (not purely text)\n",
    "myfile.write(r.read()) \n",
    "# SW: Read the file into memory and write it to myfile\n",
    "myfile.close() \n",
    "# SW: Close myfile to release the lock and make it available for other manipulation or\n",
    "# other applications."
   ]
  },
  {
   "cell_type": "markdown",
   "metadata": {},
   "source": [
    "## Modules"
   ]
  },
  {
   "cell_type": "markdown",
   "metadata": {},
   "source": [
    "### Create a variable"
   ]
  },
  {
   "cell_type": "code",
   "execution_count": 14,
   "metadata": {
    "collapsed": false
   },
   "outputs": [
    {
     "name": "stdout",
     "output_type": "stream",
     "text": [
      "Something Else\n"
     ]
    }
   ],
   "source": [
    "title = 'Something Else' # initial the variable\n",
    "print(title) #print the variable"
   ]
  },
  {
   "cell_type": "markdown",
   "metadata": {},
   "source": [
    "### Import variables from a module"
   ]
  },
  {
   "cell_type": "code",
   "execution_count": 5,
   "metadata": {
    "collapsed": false
   },
   "outputs": [
    {
     "name": "stdout",
     "output_type": "stream",
     "text": [
      "Math 510 Fall 2015\n",
      "54.0\n"
     ]
    }
   ],
   "source": [
    "import Class_1_Module #uses Class_1_Module name space\n",
    "dir(Class_1_Module) # intial the function \n",
    "print(Class_1_Module.title) #print title inside the function\n",
    "print(Class_1_Module.MyAge) #print myage inside the function"
   ]
  },
  {
   "cell_type": "markdown",
   "metadata": {},
   "source": [
    "SW: Where is the section titled 'Show the difference in scope between importing a module and importing a specific variable from the module'?"
   ]
  },
  {
   "cell_type": "markdown",
   "metadata": {},
   "source": [
    "## Functions"
   ]
  },
  {
   "cell_type": "code",
   "execution_count": null,
   "metadata": {
    "collapsed": false
   },
   "outputs": [],
   "source": []
  }
 ],
 "metadata": {
  "kernelspec": {
   "display_name": "Python 3",
   "language": "python",
   "name": "python3"
  },
  "language_info": {
   "codemirror_mode": {
    "name": "ipython",
    "version": 3
   },
   "file_extension": ".py",
   "mimetype": "text/x-python",
   "name": "python",
   "nbconvert_exporter": "python",
   "pygments_lexer": "ipython3",
   "version": "3.4.3"
  }
 },
 "nbformat": 4,
 "nbformat_minor": 0
}
