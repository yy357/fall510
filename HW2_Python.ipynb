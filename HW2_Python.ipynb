{
 "cells": [
  {
   "cell_type": "code",
   "execution_count": null,
   "metadata": {
    "collapsed": true
   },
   "outputs": [],
   "source": [
    "Question 1"
   ]
  },
  {
   "cell_type": "code",
   "execution_count": 2,
   "metadata": {
    "collapsed": false
   },
   "outputs": [
    {
     "name": "stdout",
     "output_type": "stream",
     "text": [
      "0\n",
      "1\n",
      "1\n",
      "2\n",
      "3\n",
      "5\n"
     ]
    }
   ],
   "source": [
    "def fib(n):\n",
    "    if n==1:\n",
    "        print(0)\n",
    "    elif n>2:\n",
    "        a=0\n",
    "        b=1\n",
    "    while a<n or b<n:\n",
    "        if a<n:\n",
    "            print(a)\n",
    "            a=a+b\n",
    "        if b<n:\n",
    "            print(b)\n",
    "            b=a+b\n",
    "fib(8)"
   ]
  },
  {
   "cell_type": "code",
   "execution_count": null,
   "metadata": {
    "collapsed": true
   },
   "outputs": [],
   "source": [
    "Question 2"
   ]
  },
  {
   "cell_type": "code",
   "execution_count": 3,
   "metadata": {
    "collapsed": false
   },
   "outputs": [
    {
     "data": {
      "text/plain": [
       "4"
      ]
     },
     "execution_count": 3,
     "metadata": {},
     "output_type": "execute_result"
    }
   ],
   "source": [
    "def Mymax(a,b):\n",
    "    if a >= b:\n",
    "        return a\n",
    "    else:\n",
    "        return b\n",
    "Mymax(3,4)"
   ]
  },
  {
   "cell_type": "code",
   "execution_count": null,
   "metadata": {
    "collapsed": true
   },
   "outputs": [],
   "source": [
    "Question 3"
   ]
  },
  {
   "cell_type": "code",
   "execution_count": 7,
   "metadata": {
    "collapsed": false
   },
   "outputs": [
    {
     "data": {
      "text/plain": [
       "3"
      ]
     },
     "execution_count": 7,
     "metadata": {},
     "output_type": "execute_result"
    }
   ],
   "source": [
    "def max_of_three(a,b,c):\n",
    "    if a >= b:\n",
    "        if a >= c:\n",
    "            return a\n",
    "        elif a < c:\n",
    "            return c\n",
    "    elif a < b:\n",
    "        if b >= c:\n",
    "            return b\n",
    "        elif b<c:\n",
    "            return \n",
    "max_of_three(3,2,1)\n"
   ]
  },
  {
   "cell_type": "code",
   "execution_count": null,
   "metadata": {
    "collapsed": true
   },
   "outputs": [],
   "source": [
    "Question 4"
   ]
  },
  {
   "cell_type": "code",
   "execution_count": 9,
   "metadata": {
    "collapsed": false
   },
   "outputs": [
    {
     "data": {
      "text/plain": [
       "6"
      ]
     },
     "execution_count": 9,
     "metadata": {},
     "output_type": "execute_result"
    }
   ],
   "source": [
    "def mylen(list):\n",
    "    count=0\n",
    "    for i in list:\n",
    "        count=count+1\n",
    "    return count\n",
    "mylen(\"wfgfds\")"
   ]
  },
  {
   "cell_type": "code",
   "execution_count": null,
   "metadata": {
    "collapsed": true
   },
   "outputs": [],
   "source": [
    "Questoin 5"
   ]
  },
  {
   "cell_type": "code",
   "execution_count": 22,
   "metadata": {
    "collapsed": false
   },
   "outputs": [
    {
     "data": {
      "text/plain": [
       "True"
      ]
     },
     "execution_count": 22,
     "metadata": {},
     "output_type": "execute_result"
    }
   ],
   "source": [
    "def vowel(list1):\n",
    "    for i in list1:\n",
    "        if i==\"a\" or \"e\" or \"i\" or \"o\" or \"u\":\n",
    "            return True\n",
    "    else:\n",
    "        return False\n",
    "vowel(\"afd\")"
   ]
  },
  {
   "cell_type": "code",
   "execution_count": null,
   "metadata": {
    "collapsed": true
   },
   "outputs": [],
   "source": [
    "Question 6"
   ]
  },
  {
   "cell_type": "code",
   "execution_count": 28,
   "metadata": {
    "collapsed": false
   },
   "outputs": [
    {
     "data": {
      "text/plain": [
       "'boboatot'"
      ]
     },
     "execution_count": 28,
     "metadata": {},
     "output_type": "execute_result"
    }
   ],
   "source": [
    "def vowel(list):\n",
    "    if list==\"a\" or list ==\"e\" or list == \"i\" or list == \"o\" or list == \"u\":\n",
    "        return \"True\"\n",
    "    else:\n",
    "        return \"False\"\n",
    "\n",
    "def translate(n):\n",
    "    translate = \"\"\n",
    "    for i in n:\n",
    "        if vowel(i) == \"True\" or str(i) == \" \":\n",
    "            translate = translate + str(i)\n",
    "        elif vowel(i) == \"False\":\n",
    "            translate = translate + str(i) + \"o\" + str(i)\n",
    "    return translate\n",
    "translate(\"boat\")"
   ]
  },
  {
   "cell_type": "code",
   "execution_count": null,
   "metadata": {
    "collapsed": true
   },
   "outputs": [],
   "source": [
    "Question 7"
   ]
  },
  {
   "cell_type": "code",
   "execution_count": 54,
   "metadata": {
    "collapsed": false
   },
   "outputs": [
    {
     "data": {
      "text/plain": [
       "8"
      ]
     },
     "execution_count": 54,
     "metadata": {},
     "output_type": "execute_result"
    }
   ],
   "source": [
    "def sum(list):\n",
    "    sum=0\n",
    "    for i in list:\n",
    "        sum=sum+i\n",
    "    return sum\n",
    "def mul(list):\n",
    "    mul=1\n",
    "    for i in list:\n",
    "        mul=mul*i\n",
    "    return mul\n",
    "sum([1,2,3])\n",
    "mul([1,2,4])\n",
    "\n"
   ]
  },
  {
   "cell_type": "code",
   "execution_count": null,
   "metadata": {
    "collapsed": true
   },
   "outputs": [],
   "source": [
    "Question 8"
   ]
  },
  {
   "cell_type": "code",
   "execution_count": 41,
   "metadata": {
    "collapsed": false
   },
   "outputs": [
    {
     "data": {
      "text/plain": [
       "'ergdsa'"
      ]
     },
     "execution_count": 41,
     "metadata": {},
     "output_type": "execute_result"
    }
   ],
   "source": [
    "def reverse(string):\n",
    "    strlen=int(len(string))\n",
    "    reverse=\"\"\n",
    "    for i in range (0,strlen,1):\n",
    "        reverse=reverse+string[-i-1]\n",
    "    return reverse\n",
    "\n",
    "reverse(\"asdgre\")"
   ]
  },
  {
   "cell_type": "code",
   "execution_count": null,
   "metadata": {
    "collapsed": true
   },
   "outputs": [],
   "source": [
    "Question 9"
   ]
  },
  {
   "cell_type": "code",
   "execution_count": 43,
   "metadata": {
    "collapsed": false
   },
   "outputs": [
    {
     "data": {
      "text/plain": [
       "True"
      ]
     },
     "execution_count": 43,
     "metadata": {},
     "output_type": "execute_result"
    }
   ],
   "source": [
    "def palindrome(string):\n",
    "    strlen=int(len(string))\n",
    "    check = 0\n",
    "    for i in range (0,strlen,1):\n",
    "        if string[i]==string[strlen-i-1] and check == 0:\n",
    "            check =0\n",
    "        else:\n",
    "            check = 1\n",
    "            return False\n",
    "    if check == 0:\n",
    "        return True\n",
    "palindrome(\"toaot\")"
   ]
  },
  {
   "cell_type": "code",
   "execution_count": null,
   "metadata": {
    "collapsed": true
   },
   "outputs": [],
   "source": [
    "Question 10"
   ]
  },
  {
   "cell_type": "code",
   "execution_count": 50,
   "metadata": {
    "collapsed": false
   },
   "outputs": [
    {
     "data": {
      "text/plain": [
       "True"
      ]
     },
     "execution_count": 50,
     "metadata": {},
     "output_type": "execute_result"
    }
   ],
   "source": [
    "def is_member(x,a):\n",
    "    strlen=int(len(a))\n",
    "    for i in range (0,strlen,1):\n",
    "        if x == a[i]:\n",
    "            return True\n",
    "    return False  \n",
    "is_member(3,[1,3,4])"
   ]
  },
  {
   "cell_type": "code",
   "execution_count": null,
   "metadata": {
    "collapsed": true
   },
   "outputs": [],
   "source": [
    "Question 11"
   ]
  },
  {
   "cell_type": "code",
   "execution_count": 51,
   "metadata": {
    "collapsed": false
   },
   "outputs": [
    {
     "data": {
      "text/plain": [
       "True"
      ]
     },
     "execution_count": 51,
     "metadata": {},
     "output_type": "execute_result"
    }
   ],
   "source": [
    "def overlapping(x,y):\n",
    "    strlen1 = int(len(x))\n",
    "    strlen2 = int(len(y))\n",
    "    for i in range (0, strlen1, 1):\n",
    "        for j in range (0,strlen2, 1):\n",
    "            if x[i] == y[j]:\n",
    "                return True\n",
    "    return False\n",
    "overlapping([1,2,3],[3,4,5])"
   ]
  },
  {
   "cell_type": "code",
   "execution_count": null,
   "metadata": {
    "collapsed": true
   },
   "outputs": [],
   "source": [
    "Question 12"
   ]
  },
  {
   "cell_type": "code",
   "execution_count": 53,
   "metadata": {
    "collapsed": false
   },
   "outputs": [
    {
     "data": {
      "text/plain": [
       "'sssss'"
      ]
     },
     "execution_count": 53,
     "metadata": {},
     "output_type": "execute_result"
    }
   ],
   "source": [
    "def char(n,c):\n",
    "    out=\"\"\n",
    "    for i in range(0, n, 1):\n",
    "        out=out+c\n",
    "    return out\n",
    "char(5,\"s\")"
   ]
  }
 ],
 "metadata": {
  "kernelspec": {
   "display_name": "Python 3",
   "language": "python",
   "name": "python3"
  },
  "language_info": {
   "codemirror_mode": {
    "name": "ipython",
    "version": 3
   },
   "file_extension": ".py",
   "mimetype": "text/x-python",
   "name": "python",
   "nbconvert_exporter": "python",
   "pygments_lexer": "ipython3",
   "version": "3.4.3"
  }
 },
 "nbformat": 4,
 "nbformat_minor": 0
}
