{
 "cells": [
  {
   "cell_type": "markdown",
   "metadata": {},
   "source": [
    "# Question 1"
   ]
  },
  {
   "cell_type": "code",
   "execution_count": 122,
   "metadata": {
    "collapsed": false
   },
   "outputs": [
    {
     "name": "stdout",
     "output_type": "stream",
     "text": [
      "***\n",
      "***\n",
      "*****\n"
     ]
    }
   ],
   "source": [
    "def histogram(list1):\n",
    "    lenlist1=int(len(list1))\n",
    "    for i in range (0,lenlist1,1):\n",
    "        print (list1[i]*'*')\n",
    "list1=[3,3,5]\n",
    "histogram(list1)"
   ]
  },
  {
   "cell_type": "markdown",
   "metadata": {},
   "source": [
    "# Question 2"
   ]
  },
  {
   "cell_type": "code",
   "execution_count": 123,
   "metadata": {
    "collapsed": false
   },
   "outputs": [
    {
     "data": {
      "text/plain": [
       "20"
      ]
     },
     "execution_count": 123,
     "metadata": {},
     "output_type": "execute_result"
    }
   ],
   "source": [
    "def max(list):\n",
    "    sortl=sorted(list)\n",
    "    return sortl[-1]\n",
    "max([2,4,5,1,7,20,3])"
   ]
  },
  {
   "cell_type": "markdown",
   "metadata": {},
   "source": [
    "# Question 3"
   ]
  },
  {
   "cell_type": "code",
   "execution_count": 124,
   "metadata": {
    "collapsed": false
   },
   "outputs": [
    {
     "name": "stdout",
     "output_type": "stream",
     "text": [
      "[3, 5, 3, 9, 3]\n"
     ]
    }
   ],
   "source": [
    "def lengthh (abc):\n",
    "    listint = []\n",
    "    for i in abc:\n",
    "        count = 0\n",
    "        for j in i:\n",
    "            count = count + 1   \n",
    "        listint.append(count)\n",
    "    return listint\n",
    "listint = ['cat','cathy','sdf','beautiful','ads']\n",
    "print (str(lengthh(listint)))"
   ]
  },
  {
   "cell_type": "markdown",
   "metadata": {},
   "source": [
    "# Question 4"
   ]
  },
  {
   "cell_type": "code",
   "execution_count": 125,
   "metadata": {
    "collapsed": false
   },
   "outputs": [
    {
     "name": "stdout",
     "output_type": "stream",
     "text": [
      "[3, 5, 3, 9, 3]\n",
      "asdfg\n"
     ]
    }
   ],
   "source": [
    "def lengthh (abc):\n",
    "    listint = []\n",
    "    for i in abc:\n",
    "        count = 0\n",
    "        for j in i:\n",
    "            count = count + 1   \n",
    "        listint.append(count)\n",
    "    return listint\n",
    "listint = ['cat','cathy','sdf','beautiful','ads']\n",
    "print (str(lengthh(listint)))\n",
    "\n",
    "def newstr(abc):\n",
    "    newlist = lengthh (abc)\n",
    "    a = 0\n",
    "    b = 0\n",
    "    for i in range (len(newlist)):\n",
    "        if a <= newlist[i]:\n",
    "            a = newlist[i]\n",
    "            b = i\n",
    "    return abc[b]\n",
    "print (newstr ([\"asd\",\"asdf\",\"asdfg\", \"asd\"]))"
   ]
  },
  {
   "cell_type": "markdown",
   "metadata": {},
   "source": [
    "# Question 5"
   ]
  },
  {
   "cell_type": "code",
   "execution_count": 126,
   "metadata": {
    "collapsed": false
   },
   "outputs": [
    {
     "name": "stdout",
     "output_type": "stream",
     "text": [
      "['sadfgrdsa', 'asfedg']\n"
     ]
    }
   ],
   "source": [
    "def filw(words,n):\n",
    "    listw=[]\n",
    "    for i in range(len(words)):\n",
    "        if len(words[i])>n:\n",
    "            listw.append(words[i])\n",
    "    return listw\n",
    "words=['cat','dog','sadfgrdsa','asfedg']\n",
    "n=5\n",
    "print (str(filw(words,n)))"
   ]
  },
  {
   "cell_type": "markdown",
   "metadata": {},
   "source": [
    "# Question 6"
   ]
  },
  {
   "cell_type": "code",
   "execution_count": 127,
   "metadata": {
    "collapsed": false
   },
   "outputs": [
    {
     "name": "stdout",
     "output_type": "stream",
     "text": [
      "WasitaratIsaw?\n",
      "wasitaratisaw?\n"
     ]
    },
    {
     "data": {
      "text/plain": [
       "True"
      ]
     },
     "execution_count": 127,
     "metadata": {},
     "output_type": "execute_result"
    }
   ],
   "source": [
    "def palindrome(string):\n",
    "    strlen=int(len(string))\n",
    "    string2 = \"\"\n",
    "    for i in range (strlen):\n",
    "        if string[i] == \" \" or string[i] == \",\" or string[i] == \".\" or string[i] == \"?\" or string[i] == \"!\":\n",
    "            temp = string[:i]\n",
    "            for j in range (i,strlen-1,1):\n",
    "                string2 = temp + string[j+1]\n",
    "                temp = string2\n",
    "            string = string2\n",
    "            strlen = int (len(string))\n",
    "            i = i - 1\n",
    "        #print (i)\n",
    "        #print (\"strlen \" + str(strlen))\n",
    "        if i == strlen -2:\n",
    "            break\n",
    "    print (string2)\n",
    "    stringg = string2.lower()\n",
    "    print (stringg)\n",
    "    strlen3 = len(stringg)\n",
    "    check = 0\n",
    "    for i in range (0,strlen3,1):\n",
    "        if stringg [strlen3 - 1] == \" \" or stringg[strlen3 - 1] == \",\" or stringg[strlen3 - 1] == \".\" or stringg[strlen3 - 1] == \"?\" or stringg[i] == \"!\":\n",
    "            if stringg[i]==stringg[strlen3-i-2] and check == 0:\n",
    "                check =0\n",
    "            else:\n",
    "                check = 1\n",
    "                return False\n",
    "        else:\n",
    "            if stringg[i]==stringg[strlen3-i-1] and check == 0:\n",
    "                check =0\n",
    "            else:\n",
    "                check = 1\n",
    "                return False\n",
    "    if check == 0:\n",
    "        return True\n",
    "abc = \"Was it a rat I saw?\"\n",
    "palindrome (abc)"
   ]
  },
  {
   "cell_type": "markdown",
   "metadata": {},
   "source": [
    "# Question 7"
   ]
  },
  {
   "cell_type": "code",
   "execution_count": 128,
   "metadata": {
    "collapsed": false
   },
   "outputs": [
    {
     "data": {
      "text/plain": [
       "True"
      ]
     },
     "execution_count": 128,
     "metadata": {},
     "output_type": "execute_result"
    }
   ],
   "source": [
    "import re\n",
    "def pangram(stri):\n",
    "    allist='qwertyuiopasdfghjklzxcvbnm'\n",
    "    alcount=0\n",
    "    if len(stri)<26:\n",
    "        return False\n",
    "    else:\n",
    "        stence=re.sub('[^a-zA-Z]','',stri)\n",
    "        stence=stence.lower()\n",
    "        for i in range(len(allist)):\n",
    "            if allist[i] in stri:\n",
    "                alcount=alcount+1\n",
    "        if alcount==26:\n",
    "            return True\n",
    "        else:\n",
    "            return False\n",
    "        \n",
    "    \n",
    "pangram(\"The quick brown fox jumps over the lazyy dog\")  "
   ]
  },
  {
   "cell_type": "markdown",
   "metadata": {
    "collapsed": true
   },
   "source": [
    "# Question 8"
   ]
  },
  {
   "cell_type": "code",
   "execution_count": 129,
   "metadata": {
    "collapsed": false
   },
   "outputs": [],
   "source": [
    "def singverses():\n",
    "    for i in range(99,0,-1):\n",
    "        print(str(i)+' bottles of beer on the wall, '+str(i)+' bottles of beer.')\n",
    "        print('Take one down, pass it around, '+str(i-1)+' bottles of beer on the wall.')\n"
   ]
  },
  {
   "cell_type": "markdown",
   "metadata": {},
   "source": [
    "# Question 9"
   ]
  },
  {
   "cell_type": "code",
   "execution_count": 130,
   "metadata": {
    "collapsed": false
   },
   "outputs": [
    {
     "name": "stdout",
     "output_type": "stream",
     "text": [
      "god jul och gott nytt år \n"
     ]
    }
   ],
   "source": [
    "dictionary = {\"merry\":\"god\",\n",
    "              \"christmas\":\"jul\",\n",
    "              \"and\":\"och\",\n",
    "              \"happy\":\"gott\",\n",
    "              \"new\":\"nytt\",\n",
    "              \"year\":\"år\"}\n",
    "def translate(inputString):\n",
    " \n",
    "    translatedString = \"\"\n",
    "    for i in inputString.split(\" \"):#let i be each word in the inputString, seperated by \" \" \n",
    "        translatedString = translatedString+str(dictionary.get(i))+\" \"#return a value for the given key\n",
    "    return translatedString\n",
    "\n",
    "inputString = \"merry christmas and happy new year\"\n",
    "print(str(translate(inputString)))\n"
   ]
  },
  {
   "cell_type": "markdown",
   "metadata": {},
   "source": [
    "# Question 10"
   ]
  },
  {
   "cell_type": "code",
   "execution_count": 131,
   "metadata": {
    "collapsed": false
   },
   "outputs": [
    {
     "name": "stdout",
     "output_type": "stream",
     "text": [
      "{'b': 14, 'e': 1, 'd': 3, 'a': 7, 'c': 3}\n"
     ]
    }
   ],
   "source": [
    "def char_freq(stri): \n",
    "    dictionary = {}   \n",
    "    for i in range(len(stri)):\n",
    "        if stri[i] in dictionary: \n",
    "            dictionary[stri[i]]= int(dictionary.get(stri[i]))+1\n",
    "        else:\n",
    "            dictionary[stri[i]]= 1\n",
    "    return dictionary\n",
    "         \n",
    "print(str(char_freq(\"abbabcbdbabdbdbabababcbcbabe\")))\n"
   ]
  },
  {
   "cell_type": "markdown",
   "metadata": {},
   "source": [
    "# Question 11"
   ]
  },
  {
   "cell_type": "code",
   "execution_count": 132,
   "metadata": {
    "collapsed": false
   },
   "outputs": [
    {
     "name": "stdout",
     "output_type": "stream",
     "text": [
      "Caesar cipher? I much prefer Caesar salad! \n"
     ]
    }
   ],
   "source": [
    "import re\n",
    "key = {'a':'n', 'b':'o', 'c':'p', 'd':'q', 'e':'r', 'f':'s', 'g':'t', 'h':'u', \n",
    "       'i':'v', 'j':'w', 'k':'x', 'l':'y', 'm':'z', 'n':'a', 'o':'b', 'p':'c', \n",
    "       'q':'d', 'r':'e', 's':'f', 't':'g', 'u':'h', 'v':'i', 'w':'j', 'x':'k',\n",
    "       'y':'l', 'z':'m', 'A':'N', 'B':'O', 'C':'P', 'D':'Q', 'E':'R', 'F':'S', \n",
    "       'G':'T', 'H':'U', 'I':'V', 'J':'W', 'K':'X', 'L':'Y', 'M':'Z', 'N':'A', \n",
    "       'O':'B', 'P':'C', 'Q':'D', 'R':'E', 'S':'F', 'T':'G', 'U':'H', 'V':'I', \n",
    "       'W':'J', 'X':'K', 'Y':'L', 'Z':'M'}\n",
    " \n",
    "def decoder_encoder(inputString): \n",
    "    newString = \"\"  \n",
    "    for word in (re.findall('[a-zA-Z0-9?!]+', inputString)):#+:match 1 or more repetitions of the preceding RE\n",
    "        for j in range(len(word)):\n",
    "            if word[j] in key:\n",
    "                newString = newString+key[word[j]]\n",
    "            else:\n",
    "                newString = newString+word[j]#reprint?!             \n",
    "        newString =newString+\" \"#new words and split words\n",
    "    print(newString)            \n",
    "\n",
    "decoder_encoder(\"Pnrfne pvcure? V zhpu cersre Pnrfne fnynq!\")\n",
    "    "
   ]
  },
  {
   "cell_type": "markdown",
   "metadata": {},
   "source": [
    "# Question 12"
   ]
  },
  {
   "cell_type": "code",
   "execution_count": 133,
   "metadata": {
    "collapsed": false
   },
   "outputs": [
    {
     "name": "stdout",
     "output_type": "stream",
     "text": [
      "Thisisveryfunnyandcool. Indeed!\n"
     ]
    }
   ],
   "source": [
    "import re\n",
    " \n",
    "def correct(inputString):    \n",
    "    correctedString = re.sub(' +','',inputString)\n",
    " \n",
    "    correctedString = re.sub('\\.','. ',correctedString)#\\:delete the specific meaning of .\n",
    "\n",
    "    print(correctedString)\n",
    " \n",
    "correct(\"This is very funny and cool.Indeed!\")"
   ]
  },
  {
   "cell_type": "markdown",
   "metadata": {},
   "source": [
    "# Question 13"
   ]
  },
  {
   "cell_type": "code",
   "execution_count": 134,
   "metadata": {
    "collapsed": false
   },
   "outputs": [
    {
     "data": {
      "text/plain": [
       "'fixes'"
      ]
     },
     "execution_count": 134,
     "metadata": {},
     "output_type": "execute_result"
    }
   ],
   "source": [
    "import re\n",
    "def nform(v):\n",
    "    if v.endswith ('y'):\n",
    "        return re.sub('y', 'ies',v)#v means in the string v\n",
    "    elif v.endswith(('o','ch','s','sh','x','z')):#endswith() takes at most 3 arguments\n",
    "        return v+'es'\n",
    "    else:\n",
    "        return v+'s'\n",
    "nform('fix')"
   ]
  },
  {
   "cell_type": "markdown",
   "metadata": {},
   "source": [
    "# Question 14"
   ]
  },
  {
   "cell_type": "code",
   "execution_count": 135,
   "metadata": {
    "collapsed": false
   },
   "outputs": [
    {
     "name": "stdout",
     "output_type": "stream",
     "text": [
      "lying\n",
      "seeing\n",
      "moving\n",
      "hugging\n"
     ]
    }
   ],
   "source": [
    "def nform(word):\n",
    "    verbing=''\n",
    "    if word.endswith('ie'):\n",
    "        n=0\n",
    "        while n<(len(word)-2):\n",
    "            verbing=verbing+word[n]\n",
    "            n=n+1\n",
    "        verbing=verbing+'y'+'ing' \n",
    "    elif word=='be' or word=='flee' or word=='knee' or word=='see':\n",
    "        verbing=word+'ing'\n",
    "    elif word.endswith('ee'):\n",
    "        verbing=word+'ing'\n",
    "    elif word.endswith('e'):\n",
    "        i=0\n",
    "        while i<(len(word)-1):\n",
    "            verbing=verbing+word[i]\n",
    "            i=i+1\n",
    "        verbing=verbing+'ing'\n",
    "    elif word[-2] in 'aiou'and word[-1] not in 'aeiou':\n",
    "        verbing = word + word[-1] + 'ing'\n",
    "    print(verbing)\n",
    "\n",
    "nform('lie')\n",
    "nform('see')\n",
    "nform('move')\n",
    "nform('hug')"
   ]
  },
  {
   "cell_type": "code",
   "execution_count": null,
   "metadata": {
    "collapsed": true
   },
   "outputs": [],
   "source": []
  }
 ],
 "metadata": {
  "kernelspec": {
   "display_name": "Python 3",
   "language": "python",
   "name": "python3"
  },
  "language_info": {
   "codemirror_mode": {
    "name": "ipython",
    "version": 3
   },
   "file_extension": ".py",
   "mimetype": "text/x-python",
   "name": "python",
   "nbconvert_exporter": "python",
   "pygments_lexer": "ipython3",
   "version": "3.4.3"
  }
 },
 "nbformat": 4,
 "nbformat_minor": 0
}
