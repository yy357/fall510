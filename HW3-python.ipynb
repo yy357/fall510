{
 "cells": [
  {
   "cell_type": "markdown",
   "metadata": {},
   "source": [
    "# Question 1"
   ]
  },
  {
   "cell_type": "code",
   "execution_count": 122,
   "metadata": {
    "collapsed": false
   },
   "outputs": [
    {
     "name": "stdout",
     "output_type": "stream",
     "text": [
      "***\n",
      "***\n",
      "*****\n"
     ]
    }
   ],
   "source": [
    "def histogram(list1):#define a function\n",
    "    lenlist1=int(len(list1))#count the length of list\n",
    "    for i in range (0,lenlist1,1):#for each element in the list \n",
    "        print (list1[i]*'*')#print '*' according to the number in the list\n",
    "list1=[3,3,5]\n",
    "histogram(list1)"
   ]
  },
  {
   "cell_type": "markdown",
   "metadata": {},
   "source": [
    "# Question 2"
   ]
  },
  {
   "cell_type": "code",
   "execution_count": 123,
   "metadata": {
    "collapsed": false
   },
   "outputs": [
    {
     "data": {
      "text/plain": [
       "20"
      ]
     },
     "execution_count": 123,
     "metadata": {},
     "output_type": "execute_result"
    }
   ],
   "source": [
    "def max(list):\n",
    "    sortl=sorted(list)#order the list\n",
    "    return sortl[-1]#return the last number in ordered list\n",
    "max([2,4,5,1,7,20,3])"
   ]
  },
  {
   "cell_type": "markdown",
   "metadata": {},
   "source": [
    "# Question 3"
   ]
  },
  {
   "cell_type": "code",
   "execution_count": 124,
   "metadata": {
    "collapsed": false
   },
   "outputs": [
    {
     "name": "stdout",
     "output_type": "stream",
     "text": [
      "[3, 5, 3, 9, 3]\n"
     ]
    }
   ],
   "source": [
    "def lengthh (abc):\n",
    "    listint = []#create a new list\n",
    "    for i in abc:#for each element in list\n",
    "        count = 0#initial variable count\n",
    "        for j in i:#for each character in the word i\n",
    "            count = count + 1 \n",
    "        listint.append(count)#add variable count to the list\n",
    "    return listint\n",
    "listint = ['cat','cathy','sdf','beautiful','ads']\n",
    "print (str(lengthh(listint)))"
   ]
  },
  {
   "cell_type": "markdown",
   "metadata": {},
   "source": [
    "# Question 4"
   ]
  },
  {
   "cell_type": "code",
   "execution_count": 125,
   "metadata": {
    "collapsed": false
   },
   "outputs": [
    {
     "name": "stdout",
     "output_type": "stream",
     "text": [
      "[3, 5, 3, 9, 3]\n",
      "asdfg\n"
     ]
    }
   ],
   "source": [
    "def lengthh (abc):\n",
    "    listint = []\n",
    "    for i in abc:\n",
    "        count = 0\n",
    "        for j in i:\n",
    "            count = count + 1   \n",
    "        listint.append(count)\n",
    "    return listint\n",
    "listint = ['cat','cathy','sdf','beautiful','ads']\n",
    "print (str(lengthh(listint)))\n",
    "\n",
    "def newstr(abc):\n",
    "    newlist = lengthh (abc)#initial a list equal to the result of funtion \"lengthh(abc)\"\n",
    "    a = 0#initial variable a\n",
    "    b = 0#initial variable b\n",
    "    for i in range (len(newlist)):\n",
    "        if a <= newlist[i]:#if a is smaller or equal to i elment in the list\n",
    "            a = newlist[i]\n",
    "            b = i\n",
    "    return abc[b]\n",
    "print (newstr ([\"asd\",\"asdf\",\"asdfg\", \"asd\"]))"
   ]
  },
  {
   "cell_type": "markdown",
   "metadata": {},
   "source": [
    "# Question 5"
   ]
  },
  {
   "cell_type": "code",
   "execution_count": 126,
   "metadata": {
    "collapsed": false
   },
   "outputs": [
    {
     "name": "stdout",
     "output_type": "stream",
     "text": [
      "['sadfgrdsa', 'asfedg']\n"
     ]
    }
   ],
   "source": [
    "def filw(words,n):\n",
    "    listw=[]#initial new list\n",
    "    for i in range(len(words)):\n",
    "        if len(words[i])>n:#if length longer than n\n",
    "            listw.append(words[i])#add to one list\n",
    "    return listw\n",
    "words=['cat','dog','sadfgrdsa','asfedg']\n",
    "n=5\n",
    "print (str(filw(words,n)))"
   ]
  },
  {
   "cell_type": "markdown",
   "metadata": {},
   "source": [
    "# Question 6"
   ]
  },
  {
   "cell_type": "code",
   "execution_count": 1,
   "metadata": {
    "collapsed": false
   },
   "outputs": [
    {
     "data": {
      "text/plain": [
       "True"
      ]
     },
     "execution_count": 1,
     "metadata": {},
     "output_type": "execute_result"
    }
   ],
   "source": [
    "def palindrome(string):# Define a function\n",
    "    strlen=int(len(string))# count the length of string\n",
    "    string2 = \"\"# initial a new string\n",
    "    for i in range (strlen):# for each i in range of string length\n",
    "        if string[i] == \" \" or string[i] == \",\" or string[i] == \".\" or string[i] == \"?\" or string[i] == \"!\":\n",
    "            temp = string[:i]#initial a temp string equals to \"string\" from the beginning to i\n",
    "            for j in range (i,strlen-1,1):# for each j in range of i to strlen-1\n",
    "                string2 = temp + string[j+1]#string 2 equals to temp + the \"j+1\"element in \"string\"\n",
    "                temp = string2#change the value of temp\n",
    "            string = string2#change the value of string\n",
    "            strlen = int (len(string))#count the length of string \n",
    "            i = i - 1\n",
    "        #print (i)\n",
    "        #print (\"strlen \" + str(strlen))\n",
    "        if i == strlen -2:# if i equals to strlen - 2\n",
    "            break#break the function\n",
    "    #print (string2)\n",
    "    stringg = string2.lower()#change the upper case characters in string2 to lower case characters\n",
    "    #print (stringg)\n",
    "    strlen3 = len(stringg)# count the length of stringg\n",
    "    check = 0#initial a variable \n",
    "    for i in range (0,strlen3,1):# for each i in range of 0 to strlen3\n",
    "        if stringg [strlen3 - 1] == \" \" or stringg[strlen3 - 1] == \",\" or stringg[strlen3 - 1] == \".\" or stringg[strlen3 - 1] == \"?\" or stringg[i] == \"!\":\n",
    "            if stringg[i]==stringg[strlen3-i-2] and check == 0:#if i's character of stringg equals to \"strlen3-2-i\" character\n",
    "                check =0\n",
    "            else:\n",
    "                check = 1#change the value of \"check\"\n",
    "                return False\n",
    "        else:\n",
    "            if stringg[i]==stringg[strlen3-i-1] and check == 0:\n",
    "                check =0\n",
    "            else:\n",
    "                check = 1\n",
    "                return False\n",
    "    if check == 0:\n",
    "        return True\n",
    "abc = \"Was it a rat I saw?\"\n",
    "palindrome (abc)\n"
   ]
  },
  {
   "cell_type": "markdown",
   "metadata": {},
   "source": [
    "# Question 7"
   ]
  },
  {
   "cell_type": "code",
   "execution_count": 3,
   "metadata": {
    "collapsed": false
   },
   "outputs": [
    {
     "data": {
      "text/plain": [
       "True"
      ]
     },
     "execution_count": 3,
     "metadata": {},
     "output_type": "execute_result"
    }
   ],
   "source": [
    "import re\n",
    "def pangram(stri):\n",
    "    allist='qwertyuiopasdfghjklzxcvbnm'\n",
    "    alcount=0\n",
    "    if len(stri)<26:\n",
    "        return False\n",
    "    else:\n",
    "        stence=re.sub('[^a-zA-Z]','',stri)#substitude alphabate to ''\n",
    "        stence=stence.lower()#change Capital word \n",
    "        for i in range(len(allist)):\n",
    "            if allist[i] in stri:\n",
    "                alcount=alcount+1#let count increase 1 value\n",
    "        if alcount==26:\n",
    "            return True\n",
    "        else:\n",
    "            return False\n",
    "        \n",
    "    \n",
    "pangram(\"The quick brown fox jumps over the lazyy dog\")  "
   ]
  },
  {
   "cell_type": "markdown",
   "metadata": {
    "collapsed": true
   },
   "source": [
    "# Question 8"
   ]
  },
  {
   "cell_type": "code",
   "execution_count": 129,
   "metadata": {
    "collapsed": false
   },
   "outputs": [],
   "source": [
    "def singverses():\n",
    "    for i in range(99,0,-1):# for element count from 99 to 0,1 step each time\n",
    "        print(str(i)+' bottles of beer on the wall, '+str(i)+' bottles of beer.')\n",
    "        print('Take one down, pass it around, '+str(i-1)+' bottles of beer on the wall.')\n"
   ]
  },
  {
   "cell_type": "markdown",
   "metadata": {},
   "source": [
    "# Question 9"
   ]
  },
  {
   "cell_type": "code",
   "execution_count": 130,
   "metadata": {
    "collapsed": false
   },
   "outputs": [
    {
     "name": "stdout",
     "output_type": "stream",
     "text": [
      "god jul och gott nytt år \n"
     ]
    }
   ],
   "source": [
    "dictionary = {\"merry\":\"god\",\n",
    "              \"christmas\":\"jul\",\n",
    "              \"and\":\"och\",\n",
    "              \"happy\":\"gott\",\n",
    "              \"new\":\"nytt\",\n",
    "              \"year\":\"år\"}\n",
    "def translate(inputString):\n",
    " \n",
    "    translatedString = \"\"#initial new list\n",
    "    for i in inputString.split(\" \"):#let i be each word in the inputString, seperated by \" \" \n",
    "        translatedString = translatedString+str(dictionary.get(i))+\" \"#return a value for the given key\n",
    "    return translatedString\n",
    "\n",
    "inputString = \"merry christmas and happy new year\"\n",
    "print(str(translate(inputString)))\n"
   ]
  },
  {
   "cell_type": "markdown",
   "metadata": {},
   "source": [
    "# Question 10"
   ]
  },
  {
   "cell_type": "code",
   "execution_count": 6,
   "metadata": {
    "collapsed": false
   },
   "outputs": [
    {
     "name": "stdout",
     "output_type": "stream",
     "text": [
      "{'a': 7, 'c': 3, 'b': 14, 'd': 3, 'e': 1}\n"
     ]
    }
   ],
   "source": [
    "def char_freq(stri): \n",
    "    dictionary = {} #initial new list \n",
    "    for i in range(len(stri)):#for each i in range of length of stri\n",
    "        if stri[i] in dictionary: \n",
    "            dictionary[stri[i]]= int(dictionary.get(stri[i]))+1#return a value for the given key and plus one\n",
    "        else:\n",
    "            dictionary[stri[i]]= 1\n",
    "    return dictionary\n",
    "         \n",
    "print(str(char_freq(\"abbabcbdbabdbdbabababcbcbabe\")))\n"
   ]
  },
  {
   "cell_type": "markdown",
   "metadata": {},
   "source": [
    "# Question 11"
   ]
  },
  {
   "cell_type": "code",
   "execution_count": 7,
   "metadata": {
    "collapsed": false
   },
   "outputs": [
    {
     "name": "stdout",
     "output_type": "stream",
     "text": [
      "Caesar cipher? I much prefer Caesar salad! \n"
     ]
    }
   ],
   "source": [
    "import re #import library 're'\n",
    "key = {'a':'n', 'b':'o', 'c':'p', 'd':'q', 'e':'r', 'f':'s', 'g':'t', 'h':'u', \n",
    "       'i':'v', 'j':'w', 'k':'x', 'l':'y', 'm':'z', 'n':'a', 'o':'b', 'p':'c', \n",
    "       'q':'d', 'r':'e', 's':'f', 't':'g', 'u':'h', 'v':'i', 'w':'j', 'x':'k',\n",
    "       'y':'l', 'z':'m', 'A':'N', 'B':'O', 'C':'P', 'D':'Q', 'E':'R', 'F':'S', \n",
    "       'G':'T', 'H':'U', 'I':'V', 'J':'W', 'K':'X', 'L':'Y', 'M':'Z', 'N':'A', \n",
    "       'O':'B', 'P':'C', 'Q':'D', 'R':'E', 'S':'F', 'T':'G', 'U':'H', 'V':'I', \n",
    "       'W':'J', 'X':'K', 'Y':'L', 'Z':'M'}#initial a dictionary \n",
    " \n",
    "def decoder_encoder(inputString): #define a function\n",
    "    newString = \"\"  #create a string variable \n",
    "    for word in (re.findall('[a-zA-Z0-9?!]+', inputString)):#+:match 1 or more repetitions of the preceding RE\n",
    "        for j in range(len(word)):#for each j in range of length of word\n",
    "            if word[j] in key:#if j's element in word is in dictionary 'key'\n",
    "                newString = newString+key[word[j]]#newstring = newstring + value of 'word[j]' in dictionary\n",
    "            else:\n",
    "                newString = newString+word[j]#newstring = newstring + j's element in word             \n",
    "        newString =newString+\" \"#new words and split words\n",
    "    print(newString)            \n",
    "\n",
    "decoder_encoder(\"Pnrfne pvcure? V zhpu cersre Pnrfne fnynq!\")\n"
   ]
  },
  {
   "cell_type": "markdown",
   "metadata": {},
   "source": [
    "# Question 12"
   ]
  },
  {
   "cell_type": "code",
   "execution_count": 133,
   "metadata": {
    "collapsed": false
   },
   "outputs": [
    {
     "name": "stdout",
     "output_type": "stream",
     "text": [
      "Thisisveryfunnyandcool. Indeed!\n"
     ]
    }
   ],
   "source": [
    "import re\n",
    " \n",
    "def correct(inputString):    \n",
    "    correctedString = re.sub(' +','',inputString)#substitude \" \" by \"\"\n",
    " \n",
    "    correctedString = re.sub('\\.','. ',correctedString)#the meaning of \"\\\" isdelete the specific meaning of .\n",
    "\n",
    "    print(correctedString)\n",
    " \n",
    "correct(\"This is very funny and cool.Indeed!\")"
   ]
  },
  {
   "cell_type": "markdown",
   "metadata": {},
   "source": [
    "# Question 13"
   ]
  },
  {
   "cell_type": "code",
   "execution_count": 134,
   "metadata": {
    "collapsed": false
   },
   "outputs": [
    {
     "data": {
      "text/plain": [
       "'fixes'"
      ]
     },
     "execution_count": 134,
     "metadata": {},
     "output_type": "execute_result"
    }
   ],
   "source": [
    "import re\n",
    "def nform(v):\n",
    "    if v.endswith ('y'):#the word end with y\n",
    "        return re.sub('y', 'ies',v)#substitude 'y' by 'ise'\n",
    "    elif v.endswith(('o','ch','s','sh','x','z')):#if the verd end with o,ch,s,sh,x,z\n",
    "        return v+'es'#add es in the end\n",
    "    else:\n",
    "        return v+'s'\n",
    "nform('fix')"
   ]
  },
  {
   "cell_type": "markdown",
   "metadata": {},
   "source": [
    "# Question 14"
   ]
  },
  {
   "cell_type": "code",
   "execution_count": 4,
   "metadata": {
    "collapsed": false
   },
   "outputs": [
    {
     "name": "stdout",
     "output_type": "stream",
     "text": [
      "lying\n",
      "seeing\n",
      "moving\n",
      "hugging\n"
     ]
    }
   ],
   "source": [
    "def nform(word):\n",
    "    verbing=''#create a new string\n",
    "    if word.endswith('ie'):# if word ends with 'ie'\n",
    "        n=0\n",
    "        while n<(len(word)-2):# while n is smaller than the length of word - 2\n",
    "            verbing=verbing+word[n]#let verbing = verbing + the n's character in word\n",
    "            n=n+1#increase 1 value of n\n",
    "        verbing=verbing+'y'+'ing' #let verbing = part of verbing without 'ie' + 'y' + 'ing'\n",
    "    elif word=='be' or word=='flee' or word=='knee' or word=='see':#else if\n",
    "        verbing=word+'ing'#verbing = word + 'ing' directly\n",
    "    elif word.endswith('ee'):\n",
    "        verbing=word+'ing'#verbing = word + 'ing' directly\n",
    "    elif word.endswith('e'):\n",
    "        i=0 # initial a variable i = 0\n",
    "        while i<(len(word)-1):# while i is smaller than the length of word - 1\n",
    "            verbing=verbing+word[i]# verbing = verbing  + the n's character in word\n",
    "            i=i+1 #increase 1 value of i\n",
    "        verbing=verbing+'ing'#verbing =  verbing + 'ing'\n",
    "    elif word[-2] in 'aiou'and word[-1] not in 'aeiou':#else if the one before last character is 'aiou' and the last character is not in 'aeiou'\n",
    "        verbing = word + word[-1] + 'ing'#verbing = word + the last character in word + 'ing'\n",
    "    print(verbing)\n",
    "\n",
    "nform('lie')\n",
    "nform('see')\n",
    "nform('move')\n",
    "nform('hug')"
   ]
  },
  {
   "cell_type": "code",
   "execution_count": null,
   "metadata": {
    "collapsed": true
   },
   "outputs": [],
   "source": []
  }
 ],
 "metadata": {
  "kernelspec": {
   "display_name": "Python 3",
   "language": "python",
   "name": "python3"
  },
  "language_info": {
   "codemirror_mode": {
    "name": "ipython",
    "version": 3
   },
   "file_extension": ".py",
   "mimetype": "text/x-python",
   "name": "python",
   "nbconvert_exporter": "python",
   "pygments_lexer": "ipython3",
   "version": "3.4.3"
  }
 },
 "nbformat": 4,
 "nbformat_minor": 0
}
